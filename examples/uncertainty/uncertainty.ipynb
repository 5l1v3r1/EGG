{
 "cells": [
  {
   "cell_type": "code",
   "execution_count": 1,
   "metadata": {},
   "outputs": [
    {
     "name": "stdout",
     "output_type": "stream",
     "text": [
      "Using matplotlib backend: Qt5Agg\n"
     ]
    }
   ],
   "source": [
    "%matplotlib auto\n",
    "from emuCreate import *\n",
    "import numpy as np\n",
    "import matplotlib.pyplot as plt\n",
    "import time"
   ]
  },
  {
   "cell_type": "code",
   "execution_count": 2,
   "metadata": {},
   "outputs": [
    {
     "name": "stdout",
     "output_type": "stream",
     "text": [
      "(1000, 5) (1000, 1620)\n"
     ]
    }
   ],
   "source": [
    "designFile = 'design.txt'\n",
    "simOutFile = 'output.txt'\n",
    "\n",
    "## lets read in the whole file and subsample\n",
    "design = np.loadtxt(designFile)\n",
    "ysim = np.loadtxt(simOutFile)\n",
    "\n",
    "print(np.shape(design),np.shape(ysim.transpose()))\n"
   ]
  },
  {
   "cell_type": "code",
   "execution_count": 6,
   "metadata": {},
   "outputs": [
    {
     "name": "stdout",
     "output_type": "stream",
     "text": [
      "These basis vectors explain 99.96112142325146% of the variance\n",
      "SetupModel: Determined data sizes as follows: \n",
      "\n",
      "SetupModel: This is a simulator (eta) -only model\n",
      "\n",
      "SetupModel: m=1000  (number of simulated data)\n",
      "\n",
      "SetupModel: p=  5  (number of inputs)\n",
      "\n",
      "SetupModel: pu= 15 (transformed response dimension)\n",
      "\n",
      "\n",
      "\n"
     ]
    }
   ],
   "source": [
    "# Create the emulator\n",
    "numofSamples = 2000\n",
    "gpuOn = 1\n",
    "hatch(designFile, simOutFile, numofSamples, gpuOn)\n"
   ]
  },
  {
   "cell_type": "code",
   "execution_count": 11,
   "metadata": {},
   "outputs": [
    {
     "name": "stdout",
     "output_type": "stream",
     "text": [
      "These basis vectors explain 99.96112142325146% of the variance\n",
      "SetupModel: Determined data sizes as follows: \n",
      "\n",
      "SetupModel: This is a simulator (eta) -only model\n",
      "\n",
      "SetupModel: m=1000  (number of simulated data)\n",
      "\n",
      "SetupModel: p=  5  (number of inputs)\n",
      "\n",
      "SetupModel: pu= 15 (transformed response dimension)\n",
      "\n",
      "\n",
      "\n",
      "These basis vectors explain 99.96112142325146% of the variance\n",
      "SetupModel: Determined data sizes as follows: \n",
      "\n",
      "SetupModel: This is a simulator (eta) -only model\n",
      "\n",
      "SetupModel: m=1000  (number of simulated data)\n",
      "\n",
      "SetupModel: p=  5  (number of inputs)\n",
      "\n",
      "SetupModel: pu= 15 (transformed response dimension)\n",
      "\n",
      "\n",
      "\n",
      "Default initial burn-in period: first 25% of samples\n",
      "time taken to generate 1000 uncertain values is: 86.07866191864014 secs\n"
     ]
    }
   ],
   "source": [
    "# Write a test design\n",
    "simData = readdata(designFile,simOutFile,15) # third arg is number of bases\n",
    "params = setupModel([],simData)\n",
    "mTest = 1000;\n",
    "testx = np.random.rand(mTest, params.model.p)\n",
    "testx = testx * simData['orig']['xrange'] + simData['orig']['xmin']\n",
    "# Create user defined inputs file\n",
    "np.savetxt('new_inputs.txt', testx)\n",
    "## Users can give their own input file below and predict\n",
    "\n",
    "start = time.time()\n",
    "\n",
    "## run emu on test input\n",
    "allout = emuFly('new_inputs.txt',ranSamples=0)\n",
    "\n",
    "end = time.time()\n",
    "\n",
    "print('time taken to generate '+str(np.shape(allout)[0])+' uncertain values is: '+str(end - start)+' secs')\n"
   ]
  },
  {
   "cell_type": "code",
   "execution_count": null,
   "metadata": {
    "collapsed": true
   },
   "outputs": [],
   "source": [
    "import time\n",
    "\n",
    "infile = 'design.txt'\n",
    "outfile = 'ayan_emu_uncert.txt'\n",
    "start = time.time()\n",
    "\n",
    "## run emu on test input\n",
    "allout = emuFly(infile,ranSamples=0)\n",
    "\n",
    "end = time.time()\n",
    "print('time taken to generate '+str(np.shape(allout)[0])+' uncertain values is: '+str(end - start)+' secs')\n",
    "\n",
    "np.savetxt(outfile,allout)"
   ]
  },
  {
   "cell_type": "code",
   "execution_count": null,
   "metadata": {
    "collapsed": true
   },
   "outputs": [],
   "source": [
    "print(np.shape(allout))"
   ]
  },
  {
   "cell_type": "code",
   "execution_count": null,
   "metadata": {
    "collapsed": true
   },
   "outputs": [],
   "source": [
    "print(np.min(allout),np.max(allout))\n",
    "variances = np.loadtxt('yvar.dat')\n",
    "#print((variances))"
   ]
  },
  {
   "cell_type": "code",
   "execution_count": null,
   "metadata": {
    "collapsed": true
   },
   "outputs": [],
   "source": [
    "infile = 'design.txt'\n",
    "simIn = np.loadtxt(infile)\n",
    "print(np.min(simIn,axis=0))\n",
    "print(np.max(simIn,axis=0))\n",
    "variances = np.loadtxt('yvar.dat')\n",
    "print(np.shape(variances))"
   ]
  },
  {
   "cell_type": "code",
   "execution_count": null,
   "metadata": {},
   "outputs": [],
   "source": []
  },
  {
   "cell_type": "code",
   "execution_count": null,
   "metadata": {},
   "outputs": [],
   "source": [
    "variances = np.loadtxt('yvar.dat')\n",
    "print(np.shape(variances))"
   ]
  },
  {
   "cell_type": "code",
   "execution_count": null,
   "metadata": {
    "collapsed": true
   },
   "outputs": [],
   "source": [
    "from sklearn.decomposition import PCA\n",
    "import matplotlib as mpl\n",
    "\n",
    "# PCA for the inputs \n",
    "pca2 = PCA(n_components=2)\n",
    "# scale between 0 and 1 columswise\n",
    "#simIn = (simIn - simIn.min(0)) / simIn.ptp(0)\n",
    "#simIn = readSimIns(infile)\n",
    "pcaCoords2 = pca2.fit_transform((simIn - simIn.min(0)) / simIn.ptp(0))\n",
    "\n",
    "fig = plt.figure()\n",
    "\n",
    "plt.scatter(pcaCoords2[:,0],pcaCoords2[:,1],c=variances, cmap=plt.cm.Spectral)\n",
    "\n",
    "ax1 = fig.add_axes([0.92, 0.05, 0.02, 0.9])\n",
    "cmap = mpl.cm.Spectral#mpl.cm.cool\n",
    "norm = mpl.colors.Normalize(vmin=np.min(variances), vmax=np.max(variances))\n",
    "cb1 = mpl.colorbar.ColorbarBase(ax1, cmap=cmap,\n",
    "                                norm=norm,\n",
    "                                orientation='vertical')\n",
    "cb1.set_label('Variances')\n",
    "\n",
    "plt.show()"
   ]
  },
  {
   "cell_type": "code",
   "execution_count": null,
   "metadata": {
    "collapsed": true
   },
   "outputs": [],
   "source": []
  },
  {
   "cell_type": "code",
   "execution_count": null,
   "metadata": {
    "collapsed": true
   },
   "outputs": [],
   "source": [
    "# try grid data\n",
    "import matplotlib.pyplot as plt\n",
    "from scipy.interpolate import griddata\n",
    "\n",
    "\n",
    "grid_x, grid_y = np.mgrid[0:1:100j, 0:1:100j]\n",
    "points = pcaCoords2#np.random.rand(1000, 2)\n",
    "values = variances#func(points[:,0], points[:,1])\n",
    "\n",
    "\n",
    "grid_z0 = griddata(points, values, (grid_x, grid_y), method='nearest')\n",
    "grid_z1 = griddata(points, values, (grid_x, grid_y), method='linear')\n",
    "grid_z2 = griddata(points, values, (grid_x, grid_y), method='cubic')\n",
    "ext = (np.min(pcaCoords2[:,0]),np.max(pcaCoords2[:,0]),np.min(pcaCoords2[:,1]),np.max(pcaCoords2[:,1]))\n",
    "\n",
    "fig = plt.figure()\n",
    "plt.clf()\n",
    "plt.subplot(221)\n",
    "#plt.imshow(func(grid_x, grid_y).T, extent=(0,1,0,1), origin='lower')\n",
    "plt.scatter(points[:,0], points[:,1], c=variances)\n",
    "plt.title('Original')\n",
    "plt.subplot(222)\n",
    "plt.imshow(grid_z0.T, extent=ext, origin='lower')\n",
    "plt.title('Nearest')\n",
    "plt.subplot(223)\n",
    "plt.imshow(grid_z1.T, extent=ext, origin='lower')\n",
    "plt.title('Linear')\n",
    "plt.subplot(224)\n",
    "plt.imshow(grid_z2.T, extent=ext, origin='lower')\n",
    "plt.title('Cubic')\n",
    "#plt.gcf().set_size_inches(6, 6)\n",
    "plt.show()"
   ]
  },
  {
   "cell_type": "code",
   "execution_count": null,
   "metadata": {
    "collapsed": true
   },
   "outputs": [],
   "source": [
    "pcaMin = np.min(pcaCoords2,axis=0)\n",
    "pcaMax = np.max(pcaCoords2,axis=0)\n",
    "print(pcaMin,pcaMax)\n",
    "nx, ny = (50, 50)\n",
    "x = np.linspace(pcaMin[0], pcaMax[0], nx)\n",
    "y = np.linspace(pcaMin[1], pcaMax[1], ny)   \n",
    "xv, yv = np.meshgrid(x, y)"
   ]
  },
  {
   "cell_type": "code",
   "execution_count": null,
   "metadata": {
    "collapsed": true
   },
   "outputs": [],
   "source": [
    "#print(x,y)\n",
    "#print(np.shape(xv),np.shape(yv))\n",
    "#print(xv,yv)\n",
    "\n",
    "elems = []\n",
    "import itertools\n",
    "for element in itertools.product(x,y):\n",
    "    elems.append(element)\n",
    "elems = np.array(elems)\n",
    "print(np.shape(elems))"
   ]
  },
  {
   "cell_type": "code",
   "execution_count": null,
   "metadata": {
    "collapsed": true
   },
   "outputs": [],
   "source": [
    "elems[-1,:]"
   ]
  },
  {
   "cell_type": "code",
   "execution_count": null,
   "metadata": {
    "collapsed": true
   },
   "outputs": [],
   "source": [
    "vals = pca2.inverse_transform(elems)\n",
    "#vals = (pca2.inverse_transform(elems)+simIn.min(0))*simIn.ptp(0)"
   ]
  },
  {
   "cell_type": "code",
   "execution_count": null,
   "metadata": {
    "collapsed": true
   },
   "outputs": [],
   "source": [
    "print(vals)"
   ]
  },
  {
   "cell_type": "code",
   "execution_count": null,
   "metadata": {
    "collapsed": true
   },
   "outputs": [],
   "source": [
    "scVals = (simIn - simIn.min(0)) / simIn.ptp(0)\n",
    "print(np.min(scVals,axis=0))\n",
    "print(np.max(scVals,axis=0))\n",
    "\n",
    "print(np.min(simIn,axis=0))\n",
    "print(np.max(simIn,axis=0))\n",
    "print(np.min(vals,axis=0))\n",
    "print(np.max(vals,axis=0))"
   ]
  },
  {
   "cell_type": "code",
   "execution_count": null,
   "metadata": {
    "collapsed": true
   },
   "outputs": [],
   "source": []
  }
 ],
 "metadata": {
  "kernelspec": {
   "display_name": "Python 3",
   "language": "python",
   "name": "python3"
  },
  "language_info": {
   "codemirror_mode": {
    "name": "ipython",
    "version": 3
   },
   "file_extension": ".py",
   "mimetype": "text/x-python",
   "name": "python",
   "nbconvert_exporter": "python",
   "pygments_lexer": "ipython3",
   "version": "3.6.1"
  }
 },
 "nbformat": 4,
 "nbformat_minor": 2
}
